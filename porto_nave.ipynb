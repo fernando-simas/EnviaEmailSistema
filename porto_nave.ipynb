{
 "cells": [
  {
   "cell_type": "code",
   "execution_count": 2,
   "metadata": {},
   "outputs": [],
   "source": [
    "from sqlalchemy import types, create_engine\n",
    "from sqlalchemy.orm import sessionmaker\n",
    "import sqlalchemy.types as sqltypes\n",
    "import cx_Oracle\n",
    "from msilib import Table\n",
    "from operator import index\n",
    "from selenium import webdriver\n",
    "from time import sleep\n",
    "from selenium.webdriver.common.keys import Keys\n",
    "from selenium.webdriver.common.by   import By\n",
    "from selenium.webdriver.support.select  import Select\n",
    "from win32com import client as win32\n",
    "import pandas as pd\n",
    "import json \n",
    "import csv\n",
    "import re\n"
   ]
  },
  {
   "cell_type": "code",
   "execution_count": 3,
   "metadata": {},
   "outputs": [],
   "source": [
    "cx_Oracle.init_oracle_client(lib_dir=r\"C:\\Oracle\\client12c\\instantclient_19_15\")"
   ]
  },
  {
   "cell_type": "code",
   "execution_count": 4,
   "metadata": {},
   "outputs": [
    {
     "name": "stdout",
     "output_type": "stream",
     "text": [
      "Email enviado\n"
     ]
    }
   ],
   "source": [
    "navegador = webdriver.Chrome() # ABRE O NAVEGADOR\n",
    "navegador.maximize_window()\n",
    "navegador.get(\"https://extranet.portonave.com.br/login/\") # ENTRA NO SITE PRE-DEFINIDO\n",
    "navegador.find_element(By.ID, 'politicaDePrivacidade').send_keys(Keys.ENTER) # PRECIONA ENTER NA POLICITA DE PRIVACIDADE\n",
    "login = navegador.find_element(By.ID, 'login') # BUSCA O CAMPO DE LOGIN\n",
    "senha = navegador.find_element(By.ID, 'senha') # BUSCA O CAMPO DE SENHA\n",
    "\n",
    "sleep(2)\n",
    "login.send_keys('95704450091') # APLICANDO LOGIN\n",
    "senha.send_keys('Trust.2022' + Keys.ENTER)  # APLICANDO SENHA E ENTRANDO\n",
    "\n",
    "\n",
    "sleep(10)\n",
    "\n",
    "select = Select(navegador.find_element(By.ID, 'empresaId')) # CAMPO DE SELEÇÃOconsolas 'courier new' monospac\n",
    "select.select_by_value('32295') # SELECIONA O TTL BRAZIL - 07426908000100 - Despachante\n",
    "\n",
    "entrar = navegador.find_element(By.XPATH, '//*[@id=\"app\"]/div/section/div/div[2]/form/div/span/button').click() # CLICA EM ENTRAR\n",
    "sleep(3)\n",
    "opdc = navegador.find_element(By.XPATH, '//*[@id=\"app\"]/div/aside/div/nav/ul/li[6]/div').click() # CLICA EM OPERAÇÃO/DOCUMENTAL \n",
    "sleep(2)\n",
    "vistoria = navegador.find_element(By.XPATH, '/html/body/div[3]/div/aside/div/nav/ul/li[6]/ul/li[5]').click() # CLICA EM VISTORIAS(HISTORICO)\n",
    "\n",
    "sleep(5)\n",
    "navegador.switch_to.window(navegador.window_handles[1])\n",
    "\n",
    "link = navegador.find_element(By.XPATH, '//*[@id=\"side-menu\"]/li[7]').click()\n",
    "sleep(2)\n",
    "\n",
    "lista_df = []\n",
    "npaginas = 2\n",
    "for i in range(npaginas, 5):\n",
    "    pagina = navegador.find_element(By.XPATH, f'//*[@id=\"content\"]/form[2]/div[3]/ul/li[{npaginas}]/a')\n",
    "    navegador.execute_script(\"arguments[0].click();\", pagina)\n",
    "    sleep(5)\n",
    "\n",
    "    fluxo = navegador.find_element(By.ID, 'resultados')\n",
    "    fluxo_html = fluxo.get_attribute('outerHTML')\n",
    "    fluxo_dfs = pd.read_html(fluxo_html)\n",
    "    df = fluxo_dfs[0]\n",
    "    df = df.rename(columns={'CE E Conhecimento': 'CE', 'Datas': 'DATAS', 'Situação': 'SITUACAO'})\n",
    "    df_ret = pd.DataFrame(df)\n",
    "\n",
    "    lista_df.append(df_ret)\n",
    "    npaginas = npaginas + 1\n",
    "\n",
    "#navegador.quit()\n",
    "\n",
    "pgn = pd.concat(lista_df).to_json(orient='records') # JUNTA TODAS AS PAGINAS\n",
    "\n",
    "json_objt = json.loads(pgn)\n",
    "lista_ce = []\n",
    "lista_data = []\n",
    "lista_situ = []\n",
    "\n",
    "for c in json_objt:\n",
    "    lista_ce.append(c['CE'].split()[-1])\n",
    "    lista_data.append(c['DATAS'].split()[-2])\n",
    "    lista_situ.append(c['SITUACAO'])\n",
    "    \n",
    "resultado = dict(zip(lista_ce, lista_data))\n",
    "envia_email = dict(zip(lista_ce, lista_situ))\n",
    "\n",
    "for chave, valor in envia_email.items():\n",
    "        if valor == 'Selecionado para vistoria':\n",
    "            html_tr = ''\n",
    "            html_tr  += f''' \n",
    "            <tr style=\"border: 1px solid black\">\n",
    "                <td style=\"border: 1px solid black; padding: 5px; margin: 1px; text-align: center\">{chave}</td>\n",
    "                <td style=\"border: 1px solid black; padding: 5px; margin: 1px; text-align: center\">{valor}</td>\n",
    "            </tr>\n",
    "            '''\n",
    "outlook = win32.Dispatch('outlook.application') # AQUI É ENVIADO O EMAIL \n",
    "email = outlook.CreateItem(0)\n",
    "\n",
    "email.To = 'jeremias.crispim@trust.group'\n",
    "email.Subject = 'E-mail de teste'\n",
    "email.HTMLBody = f\"\"\"\n",
    "<p>Novo CE selecionado para vistoria encontrado!</p>\n",
    "    <table  style=\"border: 1px solid black\">\n",
    "        <thead> \n",
    "            <tr>\n",
    "                <th style=\"border: 1px solid black; background-color: #27B19E \">CE</th>\n",
    "                <th style=\"border: 1px solid black; background-color: #27B19E \">Situação</th>\n",
    "            </tr>\n",
    "        </thead>\n",
    "        <tbody> \n",
    "            {html_tr}\n",
    "        </tbody>\n",
    "    </table>   \n",
    "\"\"\"\n",
    "\n",
    "email.Send()\n",
    "print('Email enviado')\n",
    "\n",
    "dsn_tns = cx_Oracle.makedsn('192.168.1.177', '1521', service_name='CONEXOS')\n",
    "conn = cx_Oracle.connect(user=r'APP_TRUST', password='TRST.1290', dsn=dsn_tns)\n",
    "c = conn.cursor()\n",
    "\n",
    "for key, value in resultado.items():\n",
    "    if len(value) != 5:\n",
    "        c.execute(f''' INSERT INTO LOG_CE_MASTER (FILIAL, CNT_COD, CE_PESQUISADO, DATA_ANTERIOR, QUANDO) \n",
    "                        SELECT\n",
    "                            FIL_COD,\n",
    "                            CNT_COD,\n",
    "                            CNT_ESP_NICKMASTER,\n",
    "                            CNT_DTA_LIBERACAO_MAPA,\n",
    "                            SYSDATE\n",
    "                        FROM\n",
    "                            PRC_CONHECIMENTO_TRASP@TRUST_HLG\n",
    "                        WHERE\n",
    "                            CNT_ESP_NICKMASTER = '{key}' ''')\n",
    "        c.execute(f'''UPDATE LOG_CE_MASTER SET DATA_INSERIDA = '{value}' WHERE CE_PESQUISADO = '{key}' ''')\n",
    "        c.execute(f''' update prc_conhecimento_trasp@TRUST_HLG set CNT_DTA_LIBERACAO_MAPA = '{value}' where cnt_esp_nickmaster = '{key}' ''')\n",
    "        conn.commit()\n",
    "c.close()"
   ]
  },
  {
   "cell_type": "code",
   "execution_count": 34,
   "metadata": {},
   "outputs": [],
   "source": [
    "teste = '''=\"INSERT INTO COM_DOC_PRODTRIB (FIL_COD, DOC_TIP, DOC_COD, FIS_COD, PRD_COD, DPR_COD_SEQ, IMP_COD, USN_COD, DTR_NUM_ORDEM, DTR_VLD_ACAO_TOTAL, DTR_VLD_ACAO_CUSTO,\n",
    "DTR_NUM_INCIDENCIA, DTR_VLD_ACUMULADO, DTR_VLD_FORMA_RATEIO, DTR_VLD_PLANILHA_CUSTO) VALUES\n",
    "(\"&A2&\", '1', \"&B2&\", '1', \"&F2&\", \"&E2&\", '1150', '5', '202', '0', '0', '0', '0', '0', '0') \"'''\n"
   ]
  },
  {
   "cell_type": "code",
   "execution_count": 36,
   "metadata": {},
   "outputs": [
    {
     "data": {
      "text/plain": [
       "349"
      ]
     },
     "execution_count": 36,
     "metadata": {},
     "output_type": "execute_result"
    }
   ],
   "source": [
    "len(teste)"
   ]
  },
  {
   "cell_type": "code",
   "execution_count": null,
   "metadata": {},
   "outputs": [],
   "source": [
    "for c in json_objt:\n",
    "    lista_ce.append(c['CE'].split()[-1])\n",
    "    lista_data.append(c['DATAS'].split()[-2])\n",
    "    lista_situ.append(c['SITUACAO'])\n",
    "    \n",
    "resultado = dict(zip(lista_ce, lista_data))\n",
    "envia_email = dict(zip(lista_ce, lista_situ))\n",
    "\n",
    "for chave, valor in envia_email.items():\n",
    "        if valor == 'Selecionado para vistoria':\n",
    "            html_tr = ''\n",
    "            html_tr  += f''' \n",
    "            <tr style=\"border: 1px solid black\">\n",
    "                <td style=\"border: 1px solid black; padding: 5px; margin: 1px; text-align: center\">{chave}</td>\n",
    "                <td style=\"border: 1px solid black; padding: 5px; margin: 1px; text-align: center\">{valor}</td>\n",
    "            </tr>\n",
    "            '''\n",
    "outlook = win32.Dispatch('outlook.application') # AQUI É ENVIADO O EMAIL \n",
    "email = outlook.CreateItem(0)\n",
    "\n",
    "email.To = 'jeremias.crispim@trust.group'\n",
    "email.Subject = 'E-mail de teste'\n",
    "email.HTMLBody = f\"\"\"\n",
    "<p>Novo CE selecionado para vistoria encontrado!</p>\n",
    "    <table  style=\"border: 1px solid black\">\n",
    "        <thead> \n",
    "            <tr>\n",
    "                <th style=\"border: 1px solid black; background-color: #27B19E \">CE</th>\n",
    "                <th style=\"border: 1px solid black; background-color: #27B19E \">Situação</th>\n",
    "            </tr>\n",
    "        </thead>\n",
    "        <tbody> \n",
    "            {html_tr}\n",
    "        </tbody>\n",
    "    </table>   \n",
    "\"\"\"\n",
    "\n",
    "email.Send()\n",
    "print('Email enviado')"
   ]
  },
  {
   "cell_type": "code",
   "execution_count": 5,
   "metadata": {},
   "outputs": [
    {
     "data": {
      "text/plain": [
       "' \\n            <tr style=\"border: 1px solid black\">\\n                <td style=\"border: 1px solid black; padding: 5px; margin: 1px; text-align: center\">182205110212685</td>\\n                <td style=\"border: 1px solid black; padding: 5px; margin: 1px; text-align: center\">Selecionado para vistoria</td>\\n            </tr>\\n            '"
      ]
     },
     "execution_count": 5,
     "metadata": {},
     "output_type": "execute_result"
    }
   ],
   "source": [
    "html_tr"
   ]
  },
  {
   "cell_type": "code",
   "execution_count": null,
   "metadata": {},
   "outputs": [],
   "source": [
    "pgn = pd.concat(lista_df).to_json(orient='records') # JUNTA TODAS AS PAGINAS\n",
    "\n",
    "json_objt = json.loads(pgn)\n",
    "lista_ce = []\n",
    "lista_data = []\n",
    "lista_situ = []\n",
    "\n",
    "for c in json_objt:\n",
    "    lista_ce.append(c['CE'].split()[-1])\n",
    "    lista_data.append(c['DATAS'].split()[-2])\n",
    "    lista_situ.append(c['SITUACAO'])\n",
    "    \n",
    "resultado = dict(zip(lista_ce, lista_data))\n",
    "envia_email = dict(zip(lista_ce, lista_situ))"
   ]
  },
  {
   "cell_type": "code",
   "execution_count": 37,
   "metadata": {},
   "outputs": [
    {
     "data": {
      "text/plain": [
       "dict_items([('182205140251751', '16:29'), ('182205139301686', '16:25'), ('182205139164670', '16:22'), ('182205130016806', '16:00'), ('182205138579915', '13/06/2022'), ('182205135998011', '13/06/2022'), ('182205136095643', '10/06/2022'), ('182205136095562', '10/06/2022'), ('182205130665871', '09/06/2022'), ('182205130292234', '06/06/2022'), ('182205130293559', '06/06/2022'), ('182205132254216', '03/06/2022'), ('182205132558193', '03/06/2022'), ('182205132052508', '03/06/2022'), ('182205132052699', '03/06/2022'), ('182205130311204', '01/06/2022'), ('182205125959420', '01/06/2022'), ('182205130016474', '01/06/2022'), ('182205123312527', '01/06/2022'), ('182205127249803', '31/05/2022'), ('182205127954108', '31/05/2022'), ('182205126831592', '31/05/2022'), ('182205102896317', '26/05/2022'), ('182205102896236', '26/05/2022'), ('182205123856462', '26/05/2022'), ('182205123313256', '26/05/2022'), ('182205123429475', '26/05/2022'), ('182205123470785', '26/05/2022'), ('182205122318009', '26/05/2022'), ('182205117179551', '20/05/2022'), ('182205118784106', '20/05/2022'), ('182205118400642', '20/05/2022'), ('182205112885660', '20/05/2022'), ('182205115305371', '20/05/2022'), ('182205111554857', '16/05/2022'), ('182205112655584', '16/05/2022'), ('182205112654693', '16/05/2022'), ('182205112655665', '16/05/2022'), ('182205112618620', '16/05/2022'), ('182205112056010', '16/05/2022'), ('182205111681530', '16/05/2022'), ('182205111681450', '16/05/2022'), ('182205111681379', '16/05/2022'), ('182205111650066', '16/05/2022'), ('182205110351022', '16/05/2022'), ('182205112375700', '13/05/2022'), ('182205097923250', '13/05/2022'), ('182205099962067', '10/05/2022'), ('182205110212685', '10:04'), ('182205108659341', '10/05/2022'), ('182205101111669', '10/05/2022'), ('182205104918725', '06/05/2022'), ('182205103225823', '06/05/2022'), ('182205102980539', '06/05/2022'), ('182205098571765', '06/05/2022'), ('182205102040757', '05/05/2022'), ('182205104405345', '05/05/2022'), ('182205101336741', '05/05/2022'), ('182205102984798', '05/05/2022'), ('182205100735669', '05/05/2022')])"
      ]
     },
     "execution_count": 37,
     "metadata": {},
     "output_type": "execute_result"
    }
   ],
   "source": [
    "resultado.items()"
   ]
  },
  {
   "cell_type": "code",
   "execution_count": null,
   "metadata": {},
   "outputs": [],
   "source": [
    "if lista_situ == 'Selecionado para vistoria':\n",
    "    html_tr = ''\n",
    "    for chave, valor in envia_email.items():# AQUI A MAGICA ACONTECE, PARA CADA LINHA DO JSON É RETIRADO O CE E A SITUAÇÃO PARA ENTRAR NO TD DO HTML\n",
    "        html_tr  += f''' \n",
    "    <tr style=\"border: 1px solid black\">\n",
    "        <td style=\"border: 1px solid black; padding: 5px; margin: 1px; text-align: center\">{chave}</td>\n",
    "        <td style=\"border: 1px solid black; padding: 5px; margin: 1px; text-align: center\">{valor}</td>\n",
    "    </tr>\n",
    "    '''"
   ]
  },
  {
   "cell_type": "code",
   "execution_count": 19,
   "metadata": {},
   "outputs": [
    {
     "data": {
      "text/plain": [
       "False"
      ]
     },
     "execution_count": 19,
     "metadata": {},
     "output_type": "execute_result"
    }
   ],
   "source": [
    "lista_situ == 'Selecionado para vistoria'"
   ]
  },
  {
   "cell_type": "code",
   "execution_count": null,
   "metadata": {},
   "outputs": [],
   "source": [
    "pgn = pd.concat(lista_df).to_json(orient='records') # JUNTA TODAS AS PAGINAS\n",
    "\n",
    "json_objt = json.loads(pgn)\n",
    "lista_ce = []\n",
    "lista_data = []\n",
    "lista_situ = []\n",
    "\n",
    "for c in json_objt:\n",
    "    lista_ce.append(c['CE'].split()[-1])\n",
    "    lista_data.append(c['DATAS'].split()[-2])\n",
    "    lista_situ.append(c['SITUACAO'])\n",
    "    \n",
    "    if lista_situ == 'Selecionado para vistoria':\n",
    "        html_tr = ''\n",
    "        for chave, valor in envia_email.items():# AQUI A MAGICA ACONTECE, PARA CADA LINHA DO JSON É RETIRADO O CE E A SITUAÇÃO PARA ENTRAR NO TD DO HTML\n",
    "            html_tr  += f''' \n",
    "            <tr style=\"border: 1px solid black\">\n",
    "                <td style=\"border: 1px solid black; padding: 5px; margin: 1px; text-align: center\">{chave}</td>\n",
    "                <td style=\"border: 1px solid black; padding: 5px; margin: 1px; text-align: center\">{valor}</td>\n",
    "            </tr>\n",
    "            '''\n",
    "            outlook = win32.Dispatch('outlook.application') # AQUI É ENVIADO O EMAIL \n",
    "            email = outlook.CreateItem(0)\n",
    "\n",
    "            email.To = 'jeremias.crispim@trust.group'\n",
    "            email.Subject = 'E-mail de teste'\n",
    "            email.HTMLBody = f\"\"\"\n",
    "            <p>Novo CE selecionado para vistoria encontrado!</p>\n",
    "                <table  style=\"border: 1px solid black\">\n",
    "                    <thead> \n",
    "                        <tr>\n",
    "                            <th style=\"border: 1px solid black; background-color: #27B19E \">CE</th>\n",
    "                            <th style=\"border: 1px solid black; background-color: #27B19E \">Situação</th>\n",
    "                        </tr>\n",
    "                    </thead>\n",
    "                    <tbody> \n",
    "                        {html_tr}\n",
    "                    </tbody>\n",
    "                </table>   \n",
    "            \"\"\"\n",
    "\n",
    "            email.Send()\n",
    "            print('Email enviado')\n",
    "        \n",
    "        \n",
    "resultado = dict(zip(lista_ce, lista_data))\n",
    "envia_email = dict(zip(lista_ce, lista_situ))"
   ]
  },
  {
   "cell_type": "code",
   "execution_count": null,
   "metadata": {},
   "outputs": [],
   "source": []
  },
  {
   "cell_type": "code",
   "execution_count": null,
   "metadata": {},
   "outputs": [],
   "source": [
    "json_objt = json.loads(teste)\n",
    "lista_ce = []\n",
    "lista_data = []\n",
    "lista_situ = []\n",
    "\n",
    "for c in json_objt:\n",
    "    lista_ce.append(c['CE'].split()[-1])\n",
    "    lista_data.append(c['DATAS'].split()[-2])\n",
    "    if c['SITUACAO'] == 'Selecionado para vistoria':\n",
    "        lista_situ.append(c['SITUACAO'])\n",
    "        html_tr = ''\n",
    "        for chave, valor in envia_email.items():# AQUI A MAGICA ACONTECE, PARA CADA LINHA DO JSON É RETIRADO O CE E A SITUAÇÃO PARA ENTRAR NO TD DO HTML\n",
    "            html_tr  += f''' \n",
    "        <tr style=\"border: 1px solid black\">\n",
    "            <td style=\"border: 1px solid black; padding: 5px; margin: 1px; text-align: center\">{chave}</td>\n",
    "            <td style=\"border: 1px solid black; padding: 5px; margin: 1px; text-align: center\">{valor}</td>\n",
    "        </tr>\n",
    "        '''\n",
    "        \n",
    "resultado = dict(zip(lista_ce, lista_data))\n",
    "envia_email = dict(zip(lista_ce, lista_situ))\n",
    "\n",
    "\n",
    "\n",
    "\n",
    "outlook = win32.Dispatch('outlook.application') # AQUI É ENVIADO O EMAIL \n",
    "email = outlook.CreateItem(0)\n",
    "\n",
    "email.To = 'jeremias.crispim@trust.group'\n",
    "email.Subject = 'E-mail de teste'\n",
    "email.HTMLBody = f\"\"\"\n",
    "<p>Novo CE selecionado para vistoria encontrado!</p>\n",
    "    <table  style=\"border: 1px solid black\">\n",
    "        <thead> \n",
    "            <tr>\n",
    "                <th style=\"border: 1px solid black; background-color: #27B19E \">CE</th>\n",
    "                <th style=\"border: 1px solid black; background-color: #27B19E \">Situação</th>\n",
    "            </tr>\n",
    "        </thead>\n",
    "        <tbody> \n",
    "            {html_tr}\n",
    "        </tbody>\n",
    "    </table>   \n",
    "\"\"\"\n",
    "\n",
    "email.Send()\n",
    "print('Email enviado')"
   ]
  },
  {
   "cell_type": "code",
   "execution_count": null,
   "metadata": {},
   "outputs": [],
   "source": [
    "lista_situ = []\n",
    "for c in json_objt:\n",
    "    if c['SITUACAO'] == 'Selecionado para vistoria':\n",
    "        lista_situ.append(c['SITUACAO'])"
   ]
  },
  {
   "cell_type": "code",
   "execution_count": null,
   "metadata": {},
   "outputs": [],
   "source": []
  },
  {
   "cell_type": "code",
   "execution_count": null,
   "metadata": {},
   "outputs": [],
   "source": [
    "envia_email = dict(zip(lista_ce, lista_situ))"
   ]
  },
  {
   "cell_type": "code",
   "execution_count": null,
   "metadata": {},
   "outputs": [],
   "source": [
    "envia_email"
   ]
  },
  {
   "cell_type": "code",
   "execution_count": null,
   "metadata": {},
   "outputs": [],
   "source": [
    "html_tr = ''\n",
    "for chave, valor in envia_email.items():# AQUI A MAGICA ACONTECE, PARA CADA LINHA DO JSON É RETIRADO O CE E A SITUAÇÃO PARA ENTRAR NO TD DO HTML\n",
    "    html_tr  += f''' \n",
    "<tr style=\"border: 1px solid black\">\n",
    "    <td style=\"border: 1px solid black; padding: 5px; margin: 1px; text-align: center\">{chave}</td>\n",
    "    <td style=\"border: 1px solid black; padding: 5px; margin: 1px; text-align: center\">{valor}</td>\n",
    "</tr>\n",
    "'''"
   ]
  },
  {
   "cell_type": "code",
   "execution_count": null,
   "metadata": {},
   "outputs": [],
   "source": [
    "html_tr"
   ]
  },
  {
   "cell_type": "code",
   "execution_count": null,
   "metadata": {},
   "outputs": [],
   "source": [
    "outlook = win32.Dispatch('outlook.application') # AQUI É ENVIADO O EMAIL \n",
    "email = outlook.CreateItem(0)\n",
    "\n",
    "email.To = 'jeremias.crispim@trust.group'\n",
    "email.Subject = 'E-mail de teste'\n",
    "email.HTMLBody = f\"\"\"\n",
    "<p>Novo CE selecionado para vistoria encontrado!</p>\n",
    "    <table  style=\"border: 1px solid black\">\n",
    "        <thead> \n",
    "            <tr>\n",
    "                <th style=\"border: 1px solid black; background-color: #27B19E \">CE</th>\n",
    "                <th style=\"border: 1px solid black; background-color: #27B19E \">Situação</th>\n",
    "            </tr>\n",
    "        </thead>\n",
    "        <tbody> \n",
    "            {html_tr}\n",
    "        </tbody>\n",
    "    </table>   \n",
    "\"\"\"\n",
    "\n",
    "email.Send()\n",
    "print('Email enviado')"
   ]
  },
  {
   "cell_type": "code",
   "execution_count": 95,
   "metadata": {},
   "outputs": [],
   "source": [
    "dsn_tns = cx_Oracle.makedsn('192.168.1.229', '1521', service_name='CONEXOS')\n",
    "conn = cx_Oracle.connect(user=r'TRUST', password='JDSD7723B4WEFR', dsn=dsn_tns)\n",
    "c = conn.cursor()"
   ]
  },
  {
   "cell_type": "code",
   "execution_count": 7,
   "metadata": {},
   "outputs": [],
   "source": [
    "dsn_tns = cx_Oracle.makedsn('192.168.1.177', '1521', service_name='CONEXOS')\n",
    "conn = cx_Oracle.connect(user=r'APP_TRUST', password='TRST.1290', dsn=dsn_tns)\n",
    "c = conn.cursor()"
   ]
  },
  {
   "cell_type": "code",
   "execution_count": 135,
   "metadata": {},
   "outputs": [
    {
     "ename": "TypeError",
     "evalue": "'NoneType' object is not iterable",
     "output_type": "error",
     "traceback": [
      "\u001b[1;31m---------------------------------------------------------------------------\u001b[0m",
      "\u001b[1;31mTypeError\u001b[0m                                 Traceback (most recent call last)",
      "\u001b[1;32mc:\\Users\\jeremias.crispim\\OneDrive - Trust Group\\Área de Trabalho\\teste\\porto_nave.ipynb Cell 21'\u001b[0m in \u001b[0;36m<cell line: 1>\u001b[1;34m()\u001b[0m\n\u001b[1;32m----> <a href='vscode-notebook-cell:/c%3A/Users/jeremias.crispim/OneDrive%20-%20Trust%20Group/%C3%81rea%20de%20Trabalho/teste/porto_nave.ipynb#ch0000032?line=0'>1</a>\u001b[0m \u001b[39mfor\u001b[39;00m column \u001b[39min\u001b[39;00m c\u001b[39m.\u001b[39mexecute(\u001b[39m\"\u001b[39m\u001b[39m update log_ce_master set cnt_cod = \u001b[39m\u001b[39m'\u001b[39m\u001b[39m23745\u001b[39m\u001b[39m'\u001b[39m\u001b[39m \u001b[39m\u001b[39m\"\u001b[39m):\n\u001b[0;32m      <a href='vscode-notebook-cell:/c%3A/Users/jeremias.crispim/OneDrive%20-%20Trust%20Group/%C3%81rea%20de%20Trabalho/teste/porto_nave.ipynb#ch0000032?line=1'>2</a>\u001b[0m     \u001b[39mprint\u001b[39m(column)\n",
      "\u001b[1;31mTypeError\u001b[0m: 'NoneType' object is not iterable"
     ]
    }
   ],
   "source": [
    "for column in c.execute(\" update log_ce_master set cnt_cod = '23745' \"):\n",
    "    print(column)"
   ]
  },
  {
   "cell_type": "code",
   "execution_count": 8,
   "metadata": {},
   "outputs": [
    {
     "name": "stdout",
     "output_type": "stream",
     "text": [
      "(1, '23744', '182205099962067', None, None, datetime.datetime(2022, 6, 10, 16, 9, 13))\n"
     ]
    }
   ],
   "source": [
    "for column in c.execute(\"select * from LOG_CE_MASTER where rownum <= 10\"):\n",
    "    print(column)"
   ]
  },
  {
   "cell_type": "code",
   "execution_count": 17,
   "metadata": {},
   "outputs": [
    {
     "data": {
      "text/plain": [
       "dict_items([('182205140251751', '16:29'), ('182205139301686', '16:25'), ('182205139164670', '16:22'), ('182205130016806', '16:00'), ('182205138579915', '13/06/2022'), ('182205135998011', '13/06/2022'), ('182205136095643', '10/06/2022'), ('182205136095562', '10/06/2022'), ('182205130665871', '09/06/2022'), ('182205130292234', '06/06/2022'), ('182205130293559', '06/06/2022'), ('182205132254216', '03/06/2022'), ('182205132558193', '03/06/2022'), ('182205132052508', '03/06/2022'), ('182205132052699', '03/06/2022'), ('182205130311204', '01/06/2022'), ('182205125959420', '01/06/2022'), ('182205130016474', '01/06/2022'), ('182205123312527', '01/06/2022'), ('182205127249803', '31/05/2022'), ('182205127954108', '31/05/2022'), ('182205126831592', '31/05/2022'), ('182205102896317', '26/05/2022'), ('182205102896236', '26/05/2022'), ('182205123856462', '26/05/2022'), ('182205123313256', '26/05/2022'), ('182205123429475', '26/05/2022'), ('182205123470785', '26/05/2022'), ('182205122318009', '26/05/2022'), ('182205117179551', '20/05/2022'), ('182205118784106', '20/05/2022'), ('182205118400642', '20/05/2022'), ('182205112885660', '20/05/2022'), ('182205115305371', '20/05/2022'), ('182205111554857', '16/05/2022'), ('182205112655584', '16/05/2022'), ('182205112654693', '16/05/2022'), ('182205112655665', '16/05/2022'), ('182205112618620', '16/05/2022'), ('182205112056010', '16/05/2022'), ('182205111681530', '16/05/2022'), ('182205111681450', '16/05/2022'), ('182205111681379', '16/05/2022'), ('182205111650066', '16/05/2022'), ('182205110351022', '16/05/2022'), ('182205112375700', '13/05/2022'), ('182205097923250', '13/05/2022'), ('182205099962067', '10/05/2022'), ('182205110212685', '10:04'), ('182205108659341', '10/05/2022'), ('182205101111669', '10/05/2022'), ('182205104918725', '06/05/2022'), ('182205103225823', '06/05/2022'), ('182205102980539', '06/05/2022'), ('182205098571765', '06/05/2022'), ('182205102040757', '05/05/2022'), ('182205104405345', '05/05/2022'), ('182205101336741', '05/05/2022'), ('182205102984798', '05/05/2022'), ('182205100735669', '05/05/2022')])"
      ]
     },
     "execution_count": 17,
     "metadata": {},
     "output_type": "execute_result"
    }
   ],
   "source": [
    "resultado.items()"
   ]
  },
  {
   "cell_type": "code",
   "execution_count": null,
   "metadata": {},
   "outputs": [],
   "source": [
    "dsn_tns = cx_Oracle.makedsn('192.168.1.177', '1521', service_name='CONEXOS')\n",
    "conn = cx_Oracle.connect(user=r'APP_TRUST', password='TRST.1290', dsn=dsn_tns)\n",
    "c = conn.cursor()\n",
    "for key, value in resultado.items():\n",
    "    if len(value) != 5:\n",
    "        c.execute(f''' INSERT INTO LOG_CE_MASTER (FILIAL, CNT_COD, CE_PESQUISADO, DATA_ANTERIOR, QUANDO) \n",
    "                        SELECT\n",
    "                            FIL_COD,\n",
    "                            CNT_COD,\n",
    "                            CNT_ESP_NICKMASTER,\n",
    "                            CNT_DTA_LIBERACAO_MAPA,\n",
    "                            SYSDATE\n",
    "                        FROM\n",
    "                            PRC_CONHECIMENTO_TRASP@TRUST_HLG\n",
    "                        WHERE\n",
    "                            CNT_ESP_NICKMASTER = '{key}' ''')\n",
    "        c.execute(f'''UPDATE LOG_CE_MASTER SET DATA_INSERIDA = '{value}' WHERE CE_PESQUISADO = '{key}' ''')\n",
    "        c.execute(f''' update prc_conhecimento_trasp@TRUST_HLG set CNT_DTA_LIBERACAO_MAPA = '{value}' where cnt_esp_nickmaster = '{key}' ''')\n",
    "        conn.commit()\n",
    "c.close()"
   ]
  }
 ],
 "metadata": {
  "interpreter": {
   "hash": "81794d4967e6c3204c66dcd87b604927b115b27c00565d3d43f05ba2f3a2cb0d"
  },
  "kernelspec": {
   "display_name": "Python 3.9.0 64-bit",
   "language": "python",
   "name": "python3"
  },
  "language_info": {
   "codemirror_mode": {
    "name": "ipython",
    "version": 3
   },
   "file_extension": ".py",
   "mimetype": "text/x-python",
   "name": "python",
   "nbconvert_exporter": "python",
   "pygments_lexer": "ipython3",
   "version": "3.9.0"
  },
  "orig_nbformat": 4
 },
 "nbformat": 4,
 "nbformat_minor": 2
}
